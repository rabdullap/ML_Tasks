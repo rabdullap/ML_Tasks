{
 "cells": [
  {
   "cell_type": "code",
   "execution_count": 1,
   "id": "7a5ebbe9-d636-479e-8da6-879addf43d41",
   "metadata": {},
   "outputs": [
    {
     "name": "stdout",
     "output_type": "stream",
     "text": [
      "Requirement already satisfied: scipy in c:\\users\\rayee\\appdata\\local\\programs\\python\\python312\\lib\\site-packages (1.14.1)Note: you may need to restart the kernel to use updated packages.\n",
      "\n",
      "Requirement already satisfied: numpy<2.3,>=1.23.5 in c:\\users\\rayee\\appdata\\local\\programs\\python\\python312\\lib\\site-packages (from scipy) (2.1.1)\n"
     ]
    }
   ],
   "source": [
    "pip install scipy"
   ]
  },
  {
   "cell_type": "code",
   "execution_count": 28,
   "id": "6b5700f3-3cc0-4aa1-bc37-bbf0771a2364",
   "metadata": {},
   "outputs": [],
   "source": [
    "import scipy.stats as stats\n",
    "from scipy.stats import norm "
   ]
  },
  {
   "cell_type": "markdown",
   "id": "4116a0be-dc25-4e65-ad19-a56009cabdfb",
   "metadata": {},
   "source": [
    "*Q1.Suppose a child psychologist claims that the average time working mothers spend talking to their children is at least 11 minutes per day. You conduct a random sample of 1000 working mothers and find they spend an average of 11.5 minutes per day talking with their children. Assume prior research suggests the population standard deviation is 2.3 minutes. Conduct a test with a level of significance of alpha = 0.05.*"
   ]
  },
  {
   "cell_type": "code",
   "execution_count": 35,
   "id": "26475f9a-028e-471f-a268-10e7987ef5b5",
   "metadata": {},
   "outputs": [],
   "source": [
    "sample_size = 1000\n",
    "sample_mean = 11.5\n",
    "hypothesized_mean = 11\n",
    "population_std_dev = 2.3\n",
    "alpha = 0.05\n"
   ]
  },
  {
   "cell_type": "code",
   "execution_count": 36,
   "id": "67de4317-1831-4f59-bcd2-6d711523eca1",
   "metadata": {},
   "outputs": [
    {
     "name": "stdout",
     "output_type": "stream",
     "text": [
      "Z-score:6.874516652539955\n",
      "Critical Value:-1.6448536269514729\n"
     ]
    }
   ],
   "source": [
    "z_score = (sample_mean - hypothesized_mean) / (population_std_dev / (sample_size ** 0.5))\n",
    "critical_value = norm.ppf(alpha)\n",
    "print (f\"Z-score:{z_score}\")\n",
    "print(f\"Critical Value:{critical_value}\")"
   ]
  },
  {
   "cell_type": "code",
   "execution_count": 37,
   "id": "a0320707-d924-47e4-bad5-3c1840531f05",
   "metadata": {},
   "outputs": [
    {
     "name": "stdout",
     "output_type": "stream",
     "text": [
      "fail to reject the null hypothesis the null hypothesis: There is enough evidence to conclude that the average time is less than 11 minute per day\n"
     ]
    }
   ],
   "source": [
    "if z_score<critical_value:\n",
    "    print(\"Reject the null hypothesis: There is enough evidence to conclude that the average time is less than 11 minute per day\")\n",
    "if z_score>critical_value:\n",
    "    print(\"fail to reject the null hypothesis the null hypothesis: There is enough evidence to conclude that the average time is less than 11 minute per day\")"
   ]
  },
  {
   "cell_type": "markdown",
   "id": "250750bd-28d0-4c05-9e42-b332b5bfb028",
   "metadata": {},
   "source": [
    "*Q2. A coffee shop claims that their average wait time for customers is less than 5 minutes. To test this claim, a sample of 40 customers is taken, and their wait times are recorded. The sample mean wait time is found to be 4.6 minutes with a standard deviation of 0.8 minutes. Perform a hypothesis test at a significance level of 0.05 and determine whether there is enough evidence to support the coffee shop's claim.*"
   ]
  },
  {
   "cell_type": "code",
   "execution_count": 42,
   "id": "d14b92f3-0c7f-4bfa-b691-fe2575c04ca0",
   "metadata": {},
   "outputs": [],
   "source": [
    "sample_size = 40\n",
    "sample_mean = 4.6\n",
    "std_deviation = 0.8\n",
    "alpha = 0.05\n",
    "expected_mean= 5\n"
   ]
  },
  {
   "cell_type": "code",
   "execution_count": 45,
   "id": "d9fe4bf7-599f-47d7-b1ea-64af0fdb303e",
   "metadata": {},
   "outputs": [
    {
     "name": "stdout",
     "output_type": "stream",
     "text": [
      "t_score:-3.162277660168382\n",
      "Critical value:-1.684875121711225\n"
     ]
    }
   ],
   "source": [
    "t_score = (sample_mean - expected_mean)/(std_deviation/(sample_size**0.5))\n",
    "degree_freedom = sample_size-1\n",
    "Critical_value= stats.t.ppf(alpha,degree_freedom)\n",
    "print(f\"t_score:{t_score}\")\n",
    "print(f\"Critical value:{Critical_value}\")\n",
    "\n",
    "                                "
   ]
  },
  {
   "cell_type": "code",
   "execution_count": 46,
   "id": "a05b182e-f677-4e09-bba4-452319397d77",
   "metadata": {},
   "outputs": [
    {
     "name": "stdout",
     "output_type": "stream",
     "text": [
      "Reject the null hypothesis: There is enough evidence to conclude that the average time is less than 11 minute per day\n"
     ]
    }
   ],
   "source": [
    "if t_score<Critical_value:\n",
    "    print(\"Reject the null hypothesis: There is enough evidence to conclude that the average time is less than 11 minute per day\")\n",
    "if t_score>Critical_value:\n",
    "    print(\"fail to reject the null hypothesis the null hypothesis: There is enough evidence to conclude that the average time is less than 11 minute per day\")"
   ]
  },
  {
   "cell_type": "code",
   "execution_count": null,
   "id": "e9cd4f33-818d-499d-a1b6-be56606ea40e",
   "metadata": {},
   "outputs": [],
   "source": []
  }
 ],
 "metadata": {
  "kernelspec": {
   "display_name": "Python 3 (ipykernel)",
   "language": "python",
   "name": "python3"
  },
  "language_info": {
   "codemirror_mode": {
    "name": "ipython",
    "version": 3
   },
   "file_extension": ".py",
   "mimetype": "text/x-python",
   "name": "python",
   "nbconvert_exporter": "python",
   "pygments_lexer": "ipython3",
   "version": "3.12.6"
  }
 },
 "nbformat": 4,
 "nbformat_minor": 5
}
